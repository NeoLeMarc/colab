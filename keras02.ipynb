{
  "nbformat": 4,
  "nbformat_minor": 0,
  "metadata": {
    "colab": {
      "name": "keras02.ipynb",
      "provenance": [],
      "collapsed_sections": [],
      "mount_file_id": "1m0MmHTuo__jH0xK8LKUfO8ItETRZvWp7",
      "authorship_tag": "ABX9TyOuX6ewneBMee5P1gt8nKQ0",
      "include_colab_link": true
    },
    "kernelspec": {
      "name": "python3",
      "display_name": "Python 3"
    },
    "language_info": {
      "name": "python"
    },
    "accelerator": "GPU"
  },
  "cells": [
    {
      "cell_type": "markdown",
      "metadata": {
        "id": "view-in-github",
        "colab_type": "text"
      },
      "source": [
        "<a href=\"https://colab.research.google.com/github/NeoLeMarc/colab/blob/main/keras02.ipynb\" target=\"_parent\"><img src=\"https://colab.research.google.com/assets/colab-badge.svg\" alt=\"Open In Colab\"/></a>"
      ]
    },
    {
      "cell_type": "code",
      "metadata": {
        "colab": {
          "base_uri": "https://localhost:8080/"
        },
        "id": "WUeEl5jA_WO3",
        "outputId": "05c1f97e-5b6f-4801-8bbc-2146233e0bac"
      },
      "source": [
        "import matplotlib.pyplot as plt\n",
        "import os\n",
        "import shutil\n",
        "import string\n",
        "import tensorflow as tf\n",
        "\n",
        "from tensorflow.keras import layers\n",
        "from tensorflow.keras import losses\n",
        "from tensorflow.keras import preprocessing\n",
        "from tensorflow.keras.layers.experimental.preprocessing import TextVectorization\n",
        "\n",
        "print(tf.__version__)\n",
        "\n",
        "!pip install kora -q\n",
        "from kora import drive\n",
        "drive.link_nbs()\n",
        "\n",
        "import functions\n",
        "functions.print_machine_info()"
      ],
      "execution_count": 1,
      "outputs": [
        {
          "output_type": "stream",
          "text": [
            "2.5.0\n",
            "importing Jupyter notebook from /nbs/functions.ipynb\n",
            "Sun May 30 07:00:16 2021       \n",
            "+-----------------------------------------------------------------------------+\n",
            "| NVIDIA-SMI 465.19.01    Driver Version: 460.32.03    CUDA Version: 11.2     |\n",
            "|-------------------------------+----------------------+----------------------+\n",
            "| GPU  Name        Persistence-M| Bus-Id        Disp.A | Volatile Uncorr. ECC |\n",
            "| Fan  Temp  Perf  Pwr:Usage/Cap|         Memory-Usage | GPU-Util  Compute M. |\n",
            "|                               |                      |               MIG M. |\n",
            "|===============================+======================+======================|\n",
            "|   0  Tesla P4            Off  | 00000000:00:04.0 Off |                    0 |\n",
            "| N/A   36C    P8     7W /  75W |      0MiB /  7611MiB |      0%      Default |\n",
            "|                               |                      |                  N/A |\n",
            "+-------------------------------+----------------------+----------------------+\n",
            "                                                                               \n",
            "+-----------------------------------------------------------------------------+\n",
            "| Processes:                                                                  |\n",
            "|  GPU   GI   CI        PID   Type   Process name                  GPU Memory |\n",
            "|        ID   ID                                                   Usage      |\n",
            "|=============================================================================|\n",
            "|  No running processes found                                                 |\n",
            "+-----------------------------------------------------------------------------+\n",
            "Your runtime has 13.6 gigabytes of available RAM\n",
            "\n",
            "To enable a high-RAM runtime, select the Runtime > \"Change runtime type\"\n",
            "menu, and then select High-RAM in the Runtime shape dropdown. Then, \n",
            "re-execute this cell.\n"
          ],
          "name": "stdout"
        }
      ]
    },
    {
      "cell_type": "markdown",
      "metadata": {
        "id": "goyRAhy9AShk"
      },
      "source": [
        "# Sentiment analysis\n"
      ]
    },
    {
      "cell_type": "code",
      "metadata": {
        "colab": {
          "base_uri": "https://localhost:8080/"
        },
        "id": "RHctDOZgAUl4",
        "outputId": "87fac4b7-47f5-433f-b0c8-e05cd18345ed"
      },
      "source": [
        "url = \"https://ai.stanford.edu/~amaas/data/sentiment/aclImdb_v1.tar.gz\"\n",
        "\n",
        "dataset = tf.keras.utils.get_file(\"aclImdb_v1\", url,\n",
        "                                    untar=True, cache_dir='.',\n",
        "                                    cache_subdir='')\n",
        "\n",
        "dataset_dir = os.path.join(os.path.dirname(dataset), 'aclImdb')\n",
        "\n",
        "print(os.listdir(dataset_dir))\n",
        "\n",
        "train_dir = os.path.join(dataset_dir, 'train')\n",
        "print(os.listdir(train_dir))"
      ],
      "execution_count": 2,
      "outputs": [
        {
          "output_type": "stream",
          "text": [
            "['test', 'train', 'imdbEr.txt', 'README', 'imdb.vocab']\n",
            "['pos', 'unsupBow.feat', 'unsup', 'urls_neg.txt', 'urls_pos.txt', 'labeledBow.feat', 'neg', 'urls_unsup.txt']\n"
          ],
          "name": "stdout"
        }
      ]
    },
    {
      "cell_type": "code",
      "metadata": {
        "colab": {
          "base_uri": "https://localhost:8080/"
        },
        "id": "spT9ys9LBY6_",
        "outputId": "d9b62aec-0d58-49a7-ef85-28aa3926eebb"
      },
      "source": [
        "sample_file = os.path.join(train_dir, 'pos/1181_9.txt')\n",
        "\n",
        "functions.read_sample(sample_file)"
      ],
      "execution_count": 3,
      "outputs": [
        {
          "output_type": "stream",
          "text": [
            "Rachel Griffiths writes and directs this award winning short film. A heartwarming \n",
            "story about coping with grief and cherishing the memory of those we've loved and \n",
            "lost. Although, only 15 minutes long, Griffiths manages to capture so much emotion \n",
            "and truth onto film in the short space of time. Bud Tingwell gives a touching performance \n",
            "as Will, a widower struggling to cope with his wife's death. Will is confronted \n",
            "by the harsh reality of loneliness and helplessness as he proceeds to take care \n",
            "of Ruth's pet cow, Tulip. The film displays the grief and responsibility one feels \n",
            "for those they have loved and lost. Good cinematography, great direction, and superbly \n",
            "acted. It will bring tears to all those who have lost a loved one, and survived.\n"
          ],
          "name": "stdout"
        }
      ]
    },
    {
      "cell_type": "markdown",
      "metadata": {
        "id": "BPouzcD0FYY1"
      },
      "source": [
        "# Load dataset"
      ]
    },
    {
      "cell_type": "code",
      "metadata": {
        "id": "TR5libxxFavN"
      },
      "source": [
        "remove_dir = os.path.join(train_dir, 'unsup')\n",
        "shutil.rmtree(remove_dir)"
      ],
      "execution_count": 5,
      "outputs": []
    },
    {
      "cell_type": "markdown",
      "metadata": {
        "id": "Rj1svhKxFyXj"
      },
      "source": [
        "# Create validation dataset by splitting up the train dataset 80:20"
      ]
    },
    {
      "cell_type": "code",
      "metadata": {
        "colab": {
          "base_uri": "https://localhost:8080/"
        },
        "id": "-mKa5rINF7cW",
        "outputId": "24f3f03a-4171-414d-978f-d22290387ac3"
      },
      "source": [
        "batch_size = 32\n",
        "seed = 42\n",
        "\n",
        "raw_train_ds = tf.keras.preprocessing.text_dataset_from_directory(\n",
        "    'aclImdb/train',\n",
        "    batch_size = batch_size,\n",
        "    validation_split = 0.2,\n",
        "    subset = 'training',\n",
        "    seed = seed\n",
        ")"
      ],
      "execution_count": 6,
      "outputs": [
        {
          "output_type": "stream",
          "text": [
            "Found 25000 files belonging to 2 classes.\n",
            "Using 20000 files for training.\n"
          ],
          "name": "stdout"
        }
      ]
    },
    {
      "cell_type": "markdown",
      "metadata": {
        "id": "RKkrxQTgGRnY"
      },
      "source": [
        "## Print a view examples\n"
      ]
    },
    {
      "cell_type": "code",
      "metadata": {
        "colab": {
          "base_uri": "https://localhost:8080/"
        },
        "id": "VeJCFZTsGT2D",
        "outputId": "0208aaa6-5901-4035-8a82-c00119301335"
      },
      "source": [
        "print(\"Label 0 corresponds to\", raw_train_ds.class_names[0])\n",
        "print(\"Label 1 corresponds to\", raw_train_ds.class_names[1])\n",
        "\n",
        "for text_batch, label_batch in raw_train_ds.take(1):\n",
        "  for i in range(3):\n",
        "    print(\"Review\", text_batch.numpy()[i])\n",
        "    print(\"Label\", label_batch.numpy()[i])"
      ],
      "execution_count": 11,
      "outputs": [
        {
          "output_type": "stream",
          "text": [
            "Label 0 corresponds to neg\n",
            "Label 1 corresponds to pos\n",
            "Review b'Belmondo is a tough cop. He goes after a big-time drug dealer (played by Henry Silva, normally a great villain - see \"Sharky\\'s Machine\"; but here he is clearly dubbed, and because of that he lacks his usual charisma). He goes to the scuzziest places of Paris and Marseilles, asks for some names, beats up some people, gets the names, goes to more scuzzy places, asks for more names, beats up more people, etc. The whole movie is punch after punch after punch. It seems that the people who made it had no other ambition than to create the French equivalent of \"Dirty Harry\". Belmondo, who was 50 here, does perform some good stunts at the beginning; apart from those, \"Le Marginal\" is a violent, episodic, trite, shallow and forgettable cop movie. (*1/2)'\n",
            "Label 0\n",
            "Review b'Wow. The only people reviewing this positively are the Carpenter apologists. I know a lot of those. The guys that\\'ll watch John Carpenter squat on celluloid and pinch out a movie and proclaim it a masterwork of horror. This \"movie\" is utter crap. It looks and sounds like a porno (good lord, the soundtrack is awful...), and has sub-par porn acting, which is shocking, because normally Ron Perlman is really a very good actor. I honestly have no idea what Carpenter was thinking when making this. Most likely \"Beans, beans, beans..\" until somebody fed him and rolled him up into a blanket for the day... They say nothing about the abortion debate whatsoever, when they could have had a very interesting central theme (how do religious zealot anti-abortionists feel when it\\'s the devil\\'s baby?) but instead they chose to have Ron Perlman and his terribly acted kids kill a bunch of people and have the horribly cast doctors try to calm the hysterically bad pregnant girl. Not a single person from this episode or what have you should come away unscathed. It\\'s just awful. Like, Plan 9 From Outerspace awful. Like, good god please would somebody turn it off before I soil myself awful. Try watching this and The Thing in the same day and your mind will implode.'\n",
            "Label 0\n",
            "Review b'Even though it has one of the standard \"Revenge Price Plots,\" this film is my favorite of Vincent Price\\'s work. Gallico has that quality that is missing in so many horror film characters- likeability. When you watch it, you feel for him, you feel his frustration, the injustices against him, and you cheer him on when he goes for vengeance, even though he frightens you a little with his original fury. As the film goes on, his character becomes tragic. He\\'s committed his murder, but now he must kill to cover that up. And again to cover that one up. And again... your stomach sinks with his soul as it goes down its spiral- like watching a beloved brother turn into a hood. Even if the revenge story is of old, the plot devices themselves are original- Gallico uses his tricks to kill in more and more inventive ways. A shame this one isn\\'t available for home veiwing.'\n",
            "Label 1\n"
          ],
          "name": "stdout"
        }
      ]
    },
    {
      "cell_type": "markdown",
      "metadata": {
        "id": "4hNlzRxsHG05"
      },
      "source": [
        "# Create validation and test dataset\n"
      ]
    },
    {
      "cell_type": "code",
      "metadata": {
        "colab": {
          "base_uri": "https://localhost:8080/"
        },
        "id": "MrrcXRGFHPR3",
        "outputId": "b5a09aa9-8944-425c-c8a2-905d482b8aa4"
      },
      "source": [
        "raw_val_ds = tf.keras.preprocessing.text_dataset_from_directory(\n",
        "    'aclImdb/train',\n",
        "    batch_size = batch_size,\n",
        "    validation_split=0.2,\n",
        "    subset='validation',\n",
        "    seed=seed\n",
        ")"
      ],
      "execution_count": 12,
      "outputs": [
        {
          "output_type": "stream",
          "text": [
            "Found 25000 files belonging to 2 classes.\n",
            "Using 5000 files for validation.\n"
          ],
          "name": "stdout"
        }
      ]
    },
    {
      "cell_type": "code",
      "metadata": {
        "colab": {
          "base_uri": "https://localhost:8080/"
        },
        "id": "g6khb78hHgrS",
        "outputId": "d5e43ae3-7e50-45d8-8f3b-86c94d21cd0f"
      },
      "source": [
        "raw_test_ds = tf.keras.preprocessing.text_dataset_from_directory(\n",
        "    'aclImdb/test',\n",
        "    batch_size = batch_size\n",
        ")"
      ],
      "execution_count": 13,
      "outputs": [
        {
          "output_type": "stream",
          "text": [
            "Found 25000 files belonging to 2 classes.\n"
          ],
          "name": "stdout"
        }
      ]
    },
    {
      "cell_type": "markdown",
      "metadata": {
        "id": "T-EpysTvHqQL"
      },
      "source": [
        "# Prepare the dataset for training"
      ]
    },
    {
      "cell_type": "code",
      "metadata": {
        "colab": {
          "base_uri": "https://localhost:8080/"
        },
        "id": "xdsF8_ZuHsTW",
        "outputId": "bded2efe-5873-4f05-b8a9-d9ffe3226731"
      },
      "source": [
        "import re\n",
        "def custom_standardization(input_data):\n",
        "  lowercase = tf.strings.lower(input_data)\n",
        "  stripped_html = tf.strings.regex_replace(lowercase, '<br />', ' ')\n",
        "  return tf.strings.regex_replace(stripped_html,\n",
        "                                  '[%s]' % re.escape(string.punctuation),\n",
        "                                  '')\n",
        "  \n",
        "max_features = 10000\n",
        "sequence_length = 250\n",
        "\n",
        "vectorize_layer = TextVectorization(\n",
        "      standardize = custom_standardization,\n",
        "      max_tokens = max_features,\n",
        "      output_mode = 'int',\n",
        "      output_sequence_length = sequence_length\n",
        "      )\n",
        "\n",
        "# Make a text-only dataaset (without labels), then call adapt\n",
        "train_text = raw_train_ds.map(lambda x, y: x)\n",
        "vectorize_layer.adapt(train_text)\n",
        "\n",
        "def vectorize_text(text, label):\n",
        "  text = tf.expand_dims(text, -1)\n",
        "  return vectorize_layer(text), label\n",
        "\n",
        "# retrieve a batch (of 32 reviews and labels) from the dataset\n",
        "text_label, label_batch = next(iter(raw_train_ds))\n",
        "first_review, first_label = text_batch[0], label_batch[0]\n",
        "print(\"Review\", first_review)\n",
        "print(\"Label\", raw_train_ds.class_names[first_label])\n",
        "print(\"Vectorized review\", vectorize_text(first_review, first_label))\n",
        "\n",
        "print(\"6992 ---> \",vectorize_layer.get_vocabulary()[6992])\n",
        "print(\" 248 ---> \",vectorize_layer.get_vocabulary()[248])\n",
        "print('Vocabulary size: {}'.format(len(vectorize_layer.get_vocabulary())))"
      ],
      "execution_count": 27,
      "outputs": [
        {
          "output_type": "stream",
          "text": [
            "Review tf.Tensor(b'Belmondo is a tough cop. He goes after a big-time drug dealer (played by Henry Silva, normally a great villain - see \"Sharky\\'s Machine\"; but here he is clearly dubbed, and because of that he lacks his usual charisma). He goes to the scuzziest places of Paris and Marseilles, asks for some names, beats up some people, gets the names, goes to more scuzzy places, asks for more names, beats up more people, etc. The whole movie is punch after punch after punch. It seems that the people who made it had no other ambition than to create the French equivalent of \"Dirty Harry\". Belmondo, who was 50 here, does perform some good stunts at the beginning; apart from those, \"Le Marginal\" is a violent, episodic, trite, shallow and forgettable cop movie. (*1/2)', shape=(), dtype=string)\n",
            "Label neg\n",
            "Vectorized review (<tf.Tensor: shape=(1, 250), dtype=int64, numpy=\n",
            "array([[   1,    7,    4, 1233, 1021,   27,  261,  101,    4,    1, 1525,\n",
            "        6992,  248,   32, 1488,    1, 1659,    4,   86, 1011,   67,    1,\n",
            "        1707,   18,  128,   27,    7,  688, 2396,    3,   84,    5,   12,\n",
            "          27, 1453,   24,  616, 3314,   27,  261,    6,    2,    1, 1329,\n",
            "           5, 1371,    3,    1, 1581,   15,   46, 1356, 3612,   56,   46,\n",
            "          79,  201,    2, 1356,  261,    6,   50,    1, 1329, 1581,   15,\n",
            "          50, 1356, 3612,   56,   50,   79,  532,    2,  211,   17,    7,\n",
            "        2851,  101, 2851,  101, 2851,    9,  180,   12,    2,   79,   36,\n",
            "          90,    9,   66,   57,   78, 5415,   70,    6,  916,    2,  800,\n",
            "        4891,    5, 1678, 1347,    1,   36,   13, 1732,  128,  120, 3078,\n",
            "          46,   49, 3274,   31,    2,  435,  948,   35,  143, 3519,    1,\n",
            "           7,    4, 1097, 9578, 3092, 2056,    3, 2512, 1021,   17, 1105,\n",
            "           0,    0,    0,    0,    0,    0,    0,    0,    0,    0,    0,\n",
            "           0,    0,    0,    0,    0,    0,    0,    0,    0,    0,    0,\n",
            "           0,    0,    0,    0,    0,    0,    0,    0,    0,    0,    0,\n",
            "           0,    0,    0,    0,    0,    0,    0,    0,    0,    0,    0,\n",
            "           0,    0,    0,    0,    0,    0,    0,    0,    0,    0,    0,\n",
            "           0,    0,    0,    0,    0,    0,    0,    0,    0,    0,    0,\n",
            "           0,    0,    0,    0,    0,    0,    0,    0,    0,    0,    0,\n",
            "           0,    0,    0,    0,    0,    0,    0,    0,    0,    0,    0,\n",
            "           0,    0,    0,    0,    0,    0,    0,    0,    0,    0,    0,\n",
            "           0,    0,    0,    0,    0,    0,    0,    0,    0,    0,    0,\n",
            "           0,    0,    0,    0,    0,    0,    0,    0]])>, <tf.Tensor: shape=(), dtype=int32, numpy=0>)\n",
            "6992 --->  dealer\n",
            " 248 --->  played\n",
            "Vocabulary size: 10000\n"
          ],
          "name": "stdout"
        }
      ]
    },
    {
      "cell_type": "markdown",
      "metadata": {
        "id": "xwt0z_iBJ2RH"
      },
      "source": [
        "# Final preprocessing"
      ]
    },
    {
      "cell_type": "code",
      "metadata": {
        "id": "keq60QSQJ37s"
      },
      "source": [
        "train_ds = raw_train_ds.map(vectorize_text)\n",
        "val_ds = raw_val_ds.map(vectorize_text)\n",
        "test_ds = raw_test_ds.map(vectorize_text)"
      ],
      "execution_count": 28,
      "outputs": []
    },
    {
      "cell_type": "markdown",
      "metadata": {
        "id": "-O-OLg6mKEE7"
      },
      "source": [
        "# Optimize for performance\n"
      ]
    },
    {
      "cell_type": "code",
      "metadata": {
        "id": "m6ugidYnKGpB"
      },
      "source": [
        "AUTOTUNE = tf.data.AUTOTUNE\n",
        "\n",
        "train_ds = train_ds.cache().prefetch(buffer_size = AUTOTUNE)\n",
        "val_ds = val_ds.cache().prefetch(buffer_size=AUTOTUNE)\n",
        "test_ds = test_ds.cache().prefetch(buffer_size=AUTOTUNE)"
      ],
      "execution_count": 29,
      "outputs": []
    },
    {
      "cell_type": "markdown",
      "metadata": {
        "id": "sRF4XPTRKbCI"
      },
      "source": [
        "# Create the model"
      ]
    },
    {
      "cell_type": "code",
      "metadata": {
        "colab": {
          "base_uri": "https://localhost:8080/"
        },
        "id": "MsHtdVwJKcht",
        "outputId": "264ff402-f580-4fcf-e8cb-466e00928f22"
      },
      "source": [
        "embedding_dim = 16\n",
        "\n",
        "model = tf.keras.Sequential([\n",
        "                             layers.Embedding(max_features + 1, embedding_dim),\n",
        "                             layers.Dropout(0.2),\n",
        "                             layers.GlobalAveragePooling1D(),\n",
        "                             layers.Dropout(0.2),\n",
        "                             layers.Dense(1)\n",
        "])\n",
        "\n",
        "model.summary()"
      ],
      "execution_count": 30,
      "outputs": [
        {
          "output_type": "stream",
          "text": [
            "Model: \"sequential_1\"\n",
            "_________________________________________________________________\n",
            "Layer (type)                 Output Shape              Param #   \n",
            "=================================================================\n",
            "embedding_1 (Embedding)      (None, None, 16)          160016    \n",
            "_________________________________________________________________\n",
            "dropout_2 (Dropout)          (None, None, 16)          0         \n",
            "_________________________________________________________________\n",
            "global_average_pooling1d_1 ( (None, 16)                0         \n",
            "_________________________________________________________________\n",
            "dropout_3 (Dropout)          (None, 16)                0         \n",
            "_________________________________________________________________\n",
            "dense_1 (Dense)              (None, 1)                 17        \n",
            "=================================================================\n",
            "Total params: 160,033\n",
            "Trainable params: 160,033\n",
            "Non-trainable params: 0\n",
            "_________________________________________________________________\n"
          ],
          "name": "stdout"
        }
      ]
    },
    {
      "cell_type": "markdown",
      "metadata": {
        "id": "0pPmqUvLK7Ll"
      },
      "source": [
        "# Compile the model"
      ]
    },
    {
      "cell_type": "code",
      "metadata": {
        "id": "AszFKaVRK9GP"
      },
      "source": [
        "model.compile(loss=losses.BinaryCrossentropy(from_logits=True),\n",
        "              optimizer='adam',\n",
        "              metrics=tf.metrics.BinaryAccuracy(threshold=0.0))"
      ],
      "execution_count": 31,
      "outputs": []
    },
    {
      "cell_type": "markdown",
      "metadata": {
        "id": "PrFpEf07LHvE"
      },
      "source": [
        "# Train the model"
      ]
    },
    {
      "cell_type": "code",
      "metadata": {
        "colab": {
          "base_uri": "https://localhost:8080/"
        },
        "id": "gt-DKB0aLJPm",
        "outputId": "bcebd874-cebf-4f97-d7aa-c3220d7fb904"
      },
      "source": [
        "epochs = 10\n",
        "history = model.fit(\n",
        "    train_ds,\n",
        "    validation_data = val_ds,\n",
        "    epochs=epochs\n",
        ")"
      ],
      "execution_count": 32,
      "outputs": [
        {
          "output_type": "stream",
          "text": [
            "Epoch 1/10\n",
            "625/625 [==============================] - 9s 13ms/step - loss: 0.6634 - binary_accuracy: 0.6927 - val_loss: 0.6132 - val_binary_accuracy: 0.7734\n",
            "Epoch 2/10\n",
            "625/625 [==============================] - 3s 5ms/step - loss: 0.5465 - binary_accuracy: 0.8007 - val_loss: 0.4965 - val_binary_accuracy: 0.8230\n",
            "Epoch 3/10\n",
            "625/625 [==============================] - 3s 5ms/step - loss: 0.4429 - binary_accuracy: 0.8461 - val_loss: 0.4191 - val_binary_accuracy: 0.8476\n",
            "Epoch 4/10\n",
            "625/625 [==============================] - 3s 5ms/step - loss: 0.3773 - binary_accuracy: 0.8666 - val_loss: 0.3734 - val_binary_accuracy: 0.8590\n",
            "Epoch 5/10\n",
            "625/625 [==============================] - 3s 5ms/step - loss: 0.3350 - binary_accuracy: 0.8788 - val_loss: 0.3447 - val_binary_accuracy: 0.8668\n",
            "Epoch 6/10\n",
            "625/625 [==============================] - 3s 5ms/step - loss: 0.3036 - binary_accuracy: 0.8908 - val_loss: 0.3255 - val_binary_accuracy: 0.8728\n",
            "Epoch 7/10\n",
            "625/625 [==============================] - 3s 5ms/step - loss: 0.2801 - binary_accuracy: 0.8986 - val_loss: 0.3126 - val_binary_accuracy: 0.8732\n",
            "Epoch 8/10\n",
            "625/625 [==============================] - 3s 5ms/step - loss: 0.2620 - binary_accuracy: 0.9056 - val_loss: 0.3030 - val_binary_accuracy: 0.8766\n",
            "Epoch 9/10\n",
            "625/625 [==============================] - 3s 5ms/step - loss: 0.2448 - binary_accuracy: 0.9111 - val_loss: 0.2966 - val_binary_accuracy: 0.8780\n",
            "Epoch 10/10\n",
            "625/625 [==============================] - 3s 5ms/step - loss: 0.2306 - binary_accuracy: 0.9165 - val_loss: 0.2922 - val_binary_accuracy: 0.8798\n"
          ],
          "name": "stdout"
        }
      ]
    },
    {
      "cell_type": "markdown",
      "metadata": {
        "id": "1O-HTMY8MKNl"
      },
      "source": [
        "# Evaluate the model"
      ]
    },
    {
      "cell_type": "code",
      "metadata": {
        "colab": {
          "base_uri": "https://localhost:8080/"
        },
        "id": "IB9eOZ1bMLYg",
        "outputId": "68a789f6-91ac-42c7-9d2e-bbfa7966f746"
      },
      "source": [
        "loss, accuracy = model.evaluate(test_ds)\n",
        "\n",
        "print(\"Loss: \", loss)\n",
        "print(\"Accuracy: \", accuracy)"
      ],
      "execution_count": 33,
      "outputs": [
        {
          "output_type": "stream",
          "text": [
            "782/782 [==============================] - 7s 8ms/step - loss: 0.3097 - binary_accuracy: 0.8740\n",
            "Loss:  0.30971983075141907\n",
            "Accuracy:  0.873960018157959\n"
          ],
          "name": "stdout"
        }
      ]
    },
    {
      "cell_type": "markdown",
      "metadata": {
        "id": "-cFe83qyMWES"
      },
      "source": [
        "# Plot"
      ]
    },
    {
      "cell_type": "code",
      "metadata": {
        "colab": {
          "base_uri": "https://localhost:8080/"
        },
        "id": "0fMHHL9mMYAT",
        "outputId": "b3286a3d-7c65-4f4a-c89f-d02e7507d742"
      },
      "source": [
        "history_dict = history.history\n",
        "history_dict.keys()"
      ],
      "execution_count": 34,
      "outputs": [
        {
          "output_type": "execute_result",
          "data": {
            "text/plain": [
              "dict_keys(['loss', 'binary_accuracy', 'val_loss', 'val_binary_accuracy'])"
            ]
          },
          "metadata": {
            "tags": []
          },
          "execution_count": 34
        }
      ]
    },
    {
      "cell_type": "code",
      "metadata": {
        "colab": {
          "base_uri": "https://localhost:8080/",
          "height": 295
        },
        "id": "jIVUcpIZMcO-",
        "outputId": "6c23087c-668c-48c9-bca4-c5275af76d00"
      },
      "source": [
        "acc = history_dict['binary_accuracy']\n",
        "val_acc = history_dict['val_binary_accuracy']\n",
        "loss = history_dict['loss']\n",
        "val_loss = history_dict['val_loss']\n",
        "\n",
        "epochs = range(1, len(acc) + 1)\n",
        "\n",
        "# \"bo\" is for blue dot\n",
        "plt.plot(epochs, loss, 'bo', label='Training loss')\n",
        "# b is for \"solid blue line\"\n",
        "plt.plot(epochs, val_loss, 'b', label = 'Validation loss')\n",
        "plt.title(\"Training and validation loss\")\n",
        "plt.xlabel('Epochs')\n",
        "plt.ylabel(\"Loss\")\n",
        "plt.legend()\n",
        "\n",
        "plt.show()"
      ],
      "execution_count": 36,
      "outputs": [
        {
          "output_type": "display_data",
          "data": {
            "image/png": "[encoded data removed]",
            "text/plain": [
              "<Figure size 432x288 with 1 Axes>"
            ]
          },
          "metadata": {
            "tags": [],
            "needs_background": "light"
          }
        }
      ]
    },
    {
      "cell_type": "code",
      "metadata": {
        "colab": {
          "base_uri": "https://localhost:8080/",
          "height": 295
        },
        "id": "DbFjC0FNNBEL",
        "outputId": "ed03468e-b42b-46e4-971e-b3369d39b5ee"
      },
      "source": [
        "plt.plot(epochs, acc, 'bo', label = 'Training acc')\n",
        "plt.plot(epochs, val_acc, 'b', label='Validation acc')\n",
        "plt.title('Training and validation accuracy')\n",
        "plt.xlabel('Epochs')\n",
        "plt.ylabel('Accuracy')\n",
        "plt.legend(loc='lower right')\n",
        "plt.show()"
      ],
      "execution_count": 38,
      "outputs": [
        {
          "output_type": "display_data",
          "data": {
            "image/png": "[encoded data removed]",
            "text/plain": [
              "<Figure size 432x288 with 1 Axes>"
            ]
          },
          "metadata": {
            "tags": [],
            "needs_background": "light"
          }
        }
      ]
    },
    {
      "cell_type": "markdown",
      "metadata": {
        "id": "w_TaNIBWNdQ3"
      },
      "source": [
        "# Export model"
      ]
    },
    {
      "cell_type": "code",
      "metadata": {
        "colab": {
          "base_uri": "https://localhost:8080/"
        },
        "id": "o4wTUdNPNeNx",
        "outputId": "d35a1edf-d86a-41bf-96ef-fc71d4be89ab"
      },
      "source": [
        "export_model = tf.keras.Sequential([\n",
        "                                    vectorize_layer,\n",
        "                                    model,\n",
        "                                    layers.Activation('sigmoid')\n",
        "])\n",
        "\n",
        "export_model.compile(\n",
        "    loss = losses.BinaryCrossentropy(from_logits=False), optimizer='adam', metrics=['accuracy']\n",
        ")\n",
        "\n",
        "# Test it with 'raw_test_ds' which yields raw strings\n",
        "loss, accuacy = export_model.evaluate(raw_test_ds)\n",
        "print(accuracy)"
      ],
      "execution_count": 40,
      "outputs": [
        {
          "output_type": "stream",
          "text": [
            "782/782 [==============================] - 9s 11ms/step - loss: 0.3097 - accuracy: 0.8740\n",
            "0.873960018157959\n"
          ],
          "name": "stdout"
        }
      ]
    },
    {
      "cell_type": "markdown",
      "metadata": {
        "id": "zXbt5sL6N_VJ"
      },
      "source": [
        "# Inference on new data\n"
      ]
    },
    {
      "cell_type": "code",
      "metadata": {
        "colab": {
          "base_uri": "https://localhost:8080/"
        },
        "id": "_eiTv5EsOBZ3",
        "outputId": "99fd67eb-7c66-4d57-b17b-7161d2c05c2a"
      },
      "source": [
        "examples = [\n",
        "            \"The movie was great!\",\n",
        "            \"The moview was okay.\",\n",
        "            \"The movie was terrible...\"\n",
        "]\n",
        "\n",
        "export_model.predict(examples)"
      ],
      "execution_count": 41,
      "outputs": [
        {
          "output_type": "execute_result",
          "data": {
            "text/plain": [
              "array([[0.6069582 ],\n",
              "       [0.4279843 ],\n",
              "       [0.34686738]], dtype=float32)"
            ]
          },
          "metadata": {
            "tags": []
          },
          "execution_count": 41
        }
      ]
    }
  ]
}