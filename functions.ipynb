{
  "nbformat": 4,
  "nbformat_minor": 0,
  "metadata": {
    "colab": {
      "name": "functions.ipynb",
      "provenance": [],
      "collapsed_sections": [],
      "authorship_tag": "ABX9TyNvGqGGj3Ix3U8/lOliK/Mo",
      "include_colab_link": true
    },
    "kernelspec": {
      "name": "python3",
      "display_name": "Python 3"
    },
    "language_info": {
      "name": "python"
    }
  },
  "cells": [
    {
      "cell_type": "markdown",
      "metadata": {
        "id": "view-in-github",
        "colab_type": "text"
      },
      "source": [
        "<a href=\"https://colab.research.google.com/github/NeoLeMarc/colab/blob/main/functions.ipynb\" target=\"_parent\"><img src=\"https://colab.research.google.com/assets/colab-badge.svg\" alt=\"Open In Colab\"/></a>"
      ]
    },
    {
      "cell_type": "code",
      "metadata": {
        "id": "hLsweXDiTnuw"
      },
      "source": [
        "## To include:\n",
        "\"\"\"\n",
        "!pip install kora -q\n",
        "from kora import drive\n",
        "drive.link_nbs()\n",
        "\n",
        "import functions\n",
        "functions.print_machine_info()\n",
        "\"\"\"\n",
        "\n",
        "def print_machine_info():\n",
        "  gpu_info = !nvidia-smi\n",
        "  gpu_info = '\\n'.join(gpu_info)\n",
        "  if gpu_info.find('failed') >= 0:\n",
        "    print('Select the Runtime > \"Change runtime type\" menu to enable a GPU accelerator, ')\n",
        "    print('and then re-execute this cell.')\n",
        "  else:\n",
        "    print(gpu_info)\n",
        "\n",
        "  from psutil import virtual_memory\n",
        "  ram_gb = virtual_memory().total / 1e9\n",
        "  print('Your runtime has {:.1f} gigabytes of available RAM\\n'.format(ram_gb))\n",
        "\n",
        "  if ram_gb < 20:\n",
        "    print('To enable a high-RAM runtime, select the Runtime > \"Change runtime type\"')\n",
        "    print('menu, and then select High-RAM in the Runtime shape dropdown. Then, ')\n",
        "    print('re-execute this cell.')\n",
        "  else:\n",
        "    print('You are using a high-RAM runtime!')"
      ],
      "execution_count": null,
      "outputs": []
    }
  ]
}